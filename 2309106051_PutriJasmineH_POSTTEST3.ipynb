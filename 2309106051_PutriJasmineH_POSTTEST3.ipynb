{
 "cells": [
  {
   "cell_type": "markdown",
   "id": "81a96b04-fa6c-44fc-b4af-f5f9c252d7bb",
   "metadata": {},
   "source": [
    "# ===== IMPORT LIBRARIES ====="
   ]
  },
  {
   "cell_type": "code",
   "execution_count": 1,
   "id": "b01a5736-2aa5-450d-a2f5-605b3a06368b",
   "metadata": {},
   "outputs": [
    {
     "name": "stdout",
     "output_type": "stream",
     "text": [
      "Library berhasil diimport\n"
     ]
    }
   ],
   "source": [
    "import pandas as pd\n",
    "import seaborn as sns\n",
    "import numpy as nm\n",
    "import matplotlib.pyplot as plt\n",
    "from sklearn.preprocessing import StandardScaler, LabelEncoder\n",
    "from sklearn.model_selection import train_test_split\n",
    "from sklearn.impute import SimpleImputer\n",
    "import warnings\n",
    "warnings.filterwarnings('ignore')\n",
    "\n",
    "plt.style.use('default')\n",
    "sns.set_palette(\"husl\")\n",
    "\n",
    "print(\"Library berhasil diimport\")"
   ]
  },
  {
   "cell_type": "markdown",
   "id": "4c01ea42-00d3-4d61-b952-465dc64e3c3b",
   "metadata": {},
   "source": [
    "# ===== LOAD DATASET ====="
   ]
  },
  {
   "cell_type": "code",
   "execution_count": 2,
   "id": "37747110-7e4e-4bcb-80d6-9a7b6b0b9226",
   "metadata": {},
   "outputs": [
    {
     "name": "stdout",
     "output_type": "stream",
     "text": [
      "✅ Dataset berhasil diload!\n",
      "Shape awal: (4009, 12)\n"
     ]
    }
   ],
   "source": [
    "df = pd.read_csv('dataset/used_cars.csv')\n",
    "print(\"✅ Dataset berhasil diload!\")\n",
    "print(f\"Shape awal: {df.shape}\")"
   ]
  },
  {
   "cell_type": "markdown",
   "id": "dfba0324-756f-44c7-ad6b-ba546763b9f1",
   "metadata": {},
   "source": [
    "# ===== STATISTIK DESKRIPTIF ====="
   ]
  },
  {
   "cell_type": "code",
   "execution_count": 3,
   "id": "03a0afab-1e69-4e29-a6a6-81c5f8979ffb",
   "metadata": {},
   "outputs": [
    {
     "name": "stdout",
     "output_type": "stream",
     "text": [
      "📊 Statistik Deskriptif\n",
      "Statistik Deskriptif untuk Atribut Numerik:\n",
      "       model_year\n",
      "count     4009.00\n",
      "mean      2015.52\n",
      "std          6.10\n",
      "min       1974.00\n",
      "25%       2012.00\n",
      "50%       2017.00\n",
      "75%       2020.00\n",
      "max       2024.00\n"
     ]
    }
   ],
   "source": [
    "print(\"📊 Statistik Deskriptif\")\n",
    "numeric_cols = ['model_year']\n",
    "\n",
    "desc_stats = df[numeric_cols].describe().round(2)\n",
    "desc_stats.loc['Q1'] = df[numeric_cols].quantile(0.25)\n",
    "desc_stats.loc['Q2'] = df[numeric_cols].quantile(0.5)\n",
    "desc_stats.loc['Q3'] = df[numeric_cols].quantile(0.75)\n",
    "\n",
    "desc_stats = desc_stats.reindex(['count', 'mean', 'std', 'min', '25%', '50%', '75%', 'max'])\n",
    "\n",
    "print(\"Statistik Deskriptif untuk Atribut Numerik:\")\n",
    "print(desc_stats)"
   ]
  },
  {
   "cell_type": "markdown",
   "id": "8df9278c-d69b-47f7-a1db-6ee7b3bbd82b",
   "metadata": {},
   "source": [
    "# ===== MENAMPILKAN 10 RECORD PERTAMA ====="
   ]
  },
  {
   "cell_type": "code",
   "execution_count": 4,
   "id": "3ceff035-308f-4b60-b39b-36db778a4c68",
   "metadata": {},
   "outputs": [
    {
     "name": "stdout",
     "output_type": "stream",
     "text": [
      "\n",
      "10 Record Pertama (Atribut Numerik):\n",
      "   model_year\n",
      "0        2013\n",
      "1        2021\n",
      "2        2022\n",
      "3        2015\n",
      "4        2021\n",
      "5        2016\n",
      "6        2017\n",
      "7        2001\n",
      "8        2021\n",
      "9        2020\n"
     ]
    }
   ],
   "source": [
    "print(\"\\n10 Record Pertama (Atribut Numerik):\")\n",
    "print(df[numeric_cols].head(10))"
   ]
  },
  {
   "cell_type": "markdown",
   "id": "168e8b74-a0ce-4495-94ba-424ccc15fd3d",
   "metadata": {},
   "source": [
    "# ====== MENAMPILKAN INFORMASI DATASET (jumlah record, jumlah atribut, nama atribut, tipe angka) ====="
   ]
  },
  {
   "cell_type": "code",
   "execution_count": 5,
   "id": "287dddbd-87e1-440c-a551-da4138ac6ffc",
   "metadata": {},
   "outputs": [
    {
     "name": "stdout",
     "output_type": "stream",
     "text": [
      "\n",
      "Informasi Dataset:\n",
      "Jumlah Record: 4009\n",
      "Jumlah Attribute: 12\n",
      "Nama Attribute: ['brand', 'model', 'model_year', 'milage', 'fuel_type', 'engine', 'transmission', 'ext_col', 'int_col', 'accident', 'clean_title', 'price']\n",
      "Jumlah Attribute Numerik: 1\n",
      "Attribute Bertipe Angka: ['model_year']\n"
     ]
    }
   ],
   "source": [
    "print(\"\\nInformasi Dataset:\")\n",
    "print(f\"Jumlah Record: {df.shape[0]}\")\n",
    "print(f\"Jumlah Attribute: {df.shape[1]}\")\n",
    "print(f\"Nama Attribute: {list(df.columns)}\")\n",
    "print(f\"Jumlah Attribute Numerik: {len(numeric_cols)}\")\n",
    "print(f\"Attribute Bertipe Angka: {numeric_cols}\")"
   ]
  },
  {
   "cell_type": "markdown",
   "id": "5028d287-c926-47aa-9519-611d4a256b9f",
   "metadata": {},
   "source": [
    "# ===== MENAMPILKAN JUMLAH LABEL UNTUK ATRIBUT OBJEK ====="
   ]
  },
  {
   "cell_type": "code",
   "execution_count": 6,
   "id": "dc458339-2a84-45d4-9f0e-bdb31b0d92e0",
   "metadata": {},
   "outputs": [
    {
     "name": "stdout",
     "output_type": "stream",
     "text": [
      "\n",
      "Jumlah Label per Atribut Object:\n",
      "brand: 57 nilai unik\n",
      "model: 1898 nilai unik\n",
      "milage: 2818 nilai unik\n",
      "fuel_type: 7 nilai unik\n",
      "engine: 1146 nilai unik\n",
      "transmission: 62 nilai unik\n",
      "ext_col: 319 nilai unik\n",
      "int_col: 156 nilai unik\n",
      "accident: 2 nilai unik\n",
      "clean_title: 1 nilai unik\n",
      "price: 1569 nilai unik\n"
     ]
    }
   ],
   "source": [
    "object_cols = df.select_dtypes(include='object').columns\n",
    "\n",
    "print(\"\\nJumlah Label per Atribut Object:\")\n",
    "for col in object_cols:\n",
    "    print(f\"{col}: {df[col].nunique()} nilai unik\")"
   ]
  },
  {
   "cell_type": "markdown",
   "id": "4e9dfa6e-8cec-436c-868c-0ff073504eeb",
   "metadata": {},
   "source": [
    "# ===== DATA CLEANING =====\n",
    "# Hapus karakter non-numerik dari kolom price dan milage, lalu konversi ke float"
   ]
  },
  {
   "cell_type": "code",
   "execution_count": 7,
   "id": "787dbc48-e315-4cab-878b-bc760b23afde",
   "metadata": {},
   "outputs": [
    {
     "name": "stdout",
     "output_type": "stream",
     "text": [
      "1. 🧹 Cleaning Data...\n",
      "Cleaning Data Format String Selesai ✅\n",
      "Price dtype: float64\n",
      "Milage dtype: float64\n",
      "Sample price: [10300.0, 38005.0, 54598.0]\n",
      "Sample milage: [51000.0, 34742.0, 22372.0]\n",
      "\n",
      "🔍 Handling Missing Values:\n",
      "Sebelum handling:\n",
      "brand             0\n",
      "model             0\n",
      "model_year        0\n",
      "milage            0\n",
      "fuel_type       170\n",
      "engine            0\n",
      "transmission      0\n",
      "ext_col           0\n",
      "int_col           0\n",
      "accident        113\n",
      "clean_title     596\n",
      "price             0\n",
      "dtype: int64\n",
      "✅ Missing values kategorikal di fuel_type diisi dengan modus: Gasoline\n",
      "✅ Missing values kategorikal di accident diisi dengan modus: None reported\n",
      "✅ Missing values kategorikal di clean_title diisi dengan modus: Yes\n",
      "\n",
      "Setelah handling:\n",
      "brand           0\n",
      "model           0\n",
      "model_year      0\n",
      "milage          0\n",
      "fuel_type       0\n",
      "engine          0\n",
      "transmission    0\n",
      "ext_col         0\n",
      "int_col         0\n",
      "accident        0\n",
      "clean_title     0\n",
      "price           0\n",
      "dtype: int64\n",
      "\n",
      "🔍 Handling Duplicate Values:\n",
      "Jumlah duplikat sebelum: 0\n",
      "Jumlah duplikat setelah: 0\n",
      "Shape setelah hapus duplikat: (4009, 12)\n",
      "\n",
      "🔍 Handling Outliers:\n",
      "Jumlah outliers sebelum handling:\n",
      "model_year: 67 outliers\n",
      "\n",
      "Jumlah outliers setelah handling:\n",
      "model_year: 0 outliers\n"
     ]
    }
   ],
   "source": [
    "print(\"1. 🧹 Cleaning Data...\")\n",
    "\n",
    "# Price cleaning\n",
    "df['price'] = df['price'].str.replace('$', '', regex=False)\n",
    "df['price'] = df['price'].str.replace(',', '', regex=False)\n",
    "df['price'] = df['price'].astype(float)\n",
    "\n",
    "# Milage cleaning  \n",
    "df['milage'] = df['milage'].str.replace('mi.', '', regex=False)\n",
    "df['milage'] = df['milage'].str.replace(',', '', regex=False)\n",
    "df['milage'] = df['milage'].astype(float)\n",
    "\n",
    "print(\"Cleaning Data Format String Selesai ✅\")\n",
    "\n",
    "print(f\"Price dtype: {df['price'].dtype}\")\n",
    "print(f\"Milage dtype: {df['milage'].dtype}\")\n",
    "print(f\"Sample price: {df['price'].head(3).tolist()}\")\n",
    "print(f\"Sample milage: {df['milage'].head(3).tolist()}\")\n",
    "\n",
    "# 1.1 Handling Missing Values\n",
    "print(\"\\n🔍 Handling Missing Values:\")\n",
    "print(\"Sebelum handling:\")\n",
    "print(df.isnull().sum())\n",
    "\n",
    "numerical_cols = ['model_year', 'milage', 'price']\n",
    "for col in numerical_cols:\n",
    "    if df[col].isnull().sum() > 0:\n",
    "        median_val = df[col].median()\n",
    "        df[col].fillna(median_val, inplace=True)\n",
    "        print(f\"✅ Missing values numerik di {col} diisi dengan median: {median_val}\")\n",
    "\n",
    "categorical_cols = df.select_dtypes(include='object').columns\n",
    "for col in categorical_cols:\n",
    "    if df[col].isnull().sum() > 0:\n",
    "        mode_val = df[col].mode()[0]\n",
    "        df[col].fillna(mode_val, inplace=True)\n",
    "        print(f\"✅ Missing values kategorikal di {col} diisi dengan modus: {mode_val}\")\n",
    "\n",
    "print(\"\\nSetelah handling:\")\n",
    "print(df.isnull().sum())\n",
    "\n",
    "# 1.2 Handling Duplicate Values\n",
    "print(f\"\\n🔍 Handling Duplicate Values:\")\n",
    "print(f\"Jumlah duplikat sebelum: {df.duplicated().sum()}\")\n",
    "\n",
    "df = df.drop_duplicates()\n",
    "print(f\"Jumlah duplikat setelah: {df.duplicated().sum()}\")\n",
    "print(f\"Shape setelah hapus duplikat: {df.shape}\")\n",
    "\n",
    "\n",
    "## 1.3 Handling Outliers\n",
    "print(f\"\\n🔍 Handling Outliers:\")\n",
    "\n",
    "def detect_outliers_iqr(data):\n",
    "    Q1 = data.quantile(0.25)\n",
    "    Q3 = data.quantile(0.75)\n",
    "    IQR = Q3 - Q1\n",
    "    lower_bound = Q1 - 1.5 * IQR\n",
    "    upper_bound = Q3 + 1.5 * IQR\n",
    "    outliers = (data < lower_bound) | (data > upper_bound)\n",
    "    return outliers.sum()\n",
    "\n",
    "print(\"Jumlah outliers sebelum handling:\")\n",
    "for col in numeric_cols:\n",
    "    outlier_count = detect_outliers_iqr(df[col])\n",
    "    print(f\"{col}: {outlier_count} outliers\")\n",
    "\n",
    "for col in numeric_cols:\n",
    "    Q1 = df[col].quantile(0.25)\n",
    "    Q3 = df[col].quantile(0.75)\n",
    "    IQR = Q3 - Q1\n",
    "    lower_bound = Q1 - 1.5 * IQR\n",
    "    upper_bound = Q3 + 1.5 * IQR\n",
    "    \n",
    "    df[col] = nm.where(df[col] < lower_bound, lower_bound, df[col])\n",
    "    df[col] = nm.where(df[col] > upper_bound, upper_bound, df[col])\n",
    "\n",
    "print(\"\\nJumlah outliers setelah handling:\")\n",
    "for col in numeric_cols:\n",
    "    outlier_count = detect_outliers_iqr(df[col])\n",
    "    print(f\"{col}: {outlier_count} outliers\")"
   ]
  },
  {
   "cell_type": "markdown",
   "id": "736f2793-ad54-4c43-aff3-91706186b563",
   "metadata": {},
   "source": [
    "Pada data cleaning disini terdapat beberapa tahapan, yaitu\n",
    "1. Pembersihan format data\n",
    "Pemeriksaan tipe data mengungkapkan bahwa kolom 'price' dan 'milage' masih disimpan sebagai string dengan karakter khusus:\n",
    "Kolom 'price': mengandung simbol $ dan koma (contoh: $15,000)\n",
    "Kolom 'milage': mengandung teks 'mi.' dan koma (contoh: 45,000 mi.)\n",
    "\n",
    "2. Penanganan Data yang hilang (missing values)\n",
    "Pemeriksaan dataset mengungkapkan adanya nilai kosong dalam beberapa kolom. Diterapkan strategi penanganan berdasarkan tipe data:\n",
    "Data numerik (model_year, milage, price): diisi dengan nilai median\n",
    "Data kategorikal: diisi dengan nilai modus (nilai paling sering muncul)\n",
    "\n",
    "Pemilihan median untuk data numerik didasarkan pada ketahanannya terhadap outlier, sedangkan modus untuk data kategorikal menjaga distribusi kategori asli.\n",
    "\n",
    "3. Penanganan Data Duplikat\n",
    "Terdapat beberapa entri duplikat dalam dataset. Data duplikat dihapus untuk:\n",
    "    1)Mencegah bias dalam analisis statistik\n",
    "    2)Menghindari overfitting pada model machine learning\n",
    "    3)Mengoptimalkan penggunaan memori dan waktu komputasi\n",
    "\n",
    "5. Penanganan Outlier\n",
    "Outlier dideteksi menggunakan metode Interquartile Range (IQR).\n",
    "Nilai di luar batas IQR di-cap ke nilai terdekat (bawah atau atas) untuk mempertahankan ukuran sampel sementara mengurangi dampak outlier ekstrem."
   ]
  },
  {
   "cell_type": "markdown",
   "id": "53c8ebfe-5d23-41b5-b3e7-79dd54b57bad",
   "metadata": {},
   "source": [
    "# ===== NORMALISASI ====="
   ]
  },
  {
   "cell_type": "code",
   "execution_count": 8,
   "id": "6e09bc95-08c6-4222-9fe1-ffb1ff47d106",
   "metadata": {},
   "outputs": [
    {
     "name": "stdout",
     "output_type": "stream",
     "text": [
      "2. Normalisasi\n",
      "✅ Normalisasi dengan StandardScaler selesai\n",
      "\n",
      "Statistik sebelum normalisasi:\n",
      "       model_year\n",
      "count     4009.00\n",
      "mean      2015.58\n",
      "std          5.89\n",
      "min       2000.00\n",
      "25%       2012.00\n",
      "50%       2017.00\n",
      "75%       2020.00\n",
      "max       2024.00\n",
      "\n",
      "Statistik setelah normalisasi:\n",
      "       model_year\n",
      "count     4009.00\n",
      "mean         0.00\n",
      "std          1.00\n",
      "min         -2.64\n",
      "25%         -0.61\n",
      "50%          0.24\n",
      "75%          0.75\n",
      "max          1.43\n"
     ]
    }
   ],
   "source": [
    "print(\"2. Normalisasi\")\n",
    "# Simpan data asli untuk perbandingan\n",
    "original_numeric = df[numeric_cols].copy()\n",
    "\n",
    "# StandardScaler untuk normalisasi\n",
    "scaler = StandardScaler()\n",
    "df[numeric_cols] = scaler.fit_transform(df[numeric_cols])\n",
    "\n",
    "print(\"✅ Normalisasi dengan StandardScaler selesai\")\n",
    "print(\"\\nStatistik sebelum normalisasi:\")\n",
    "print(original_numeric.describe().round(2))\n",
    "print(\"\\nStatistik setelah normalisasi:\")\n",
    "print(df[numeric_cols].describe().round(2))"
   ]
  },
  {
   "cell_type": "markdown",
   "id": "235cecc1-e58a-4263-a623-e138f09ea879",
   "metadata": {},
   "source": [
    "Normalisasi menggunakan StandardScaler\n",
    "Data numerik dalam dataset memiliki skala yang sangat berbeda:\n",
    "    1)Harga: ribuan hingga puluhan ribu\n",
    "    2)Mileage: puluhan ribu hingga ratusan ribu\n",
    "    3)Tahun model: ribuan\n",
    "\n",
    "Perbedaan skala ini dapat menyebabkan model machine learning memberikan bobot berlebihan pada fitur dengan nilai besar.\n",
    "\n",
    "Hasil standardisasi:\n",
    "Mean setiap fitur: 0\n",
    "Standard deviation: 1\n",
    "Semua fitur numerik berada dalam skala yang sebanding"
   ]
  },
  {
   "cell_type": "markdown",
   "id": "ea7f8bde-4b03-49e2-8054-c27346e169c6",
   "metadata": {},
   "source": [
    "# ===== ENCODING KOLOM KATEGORIKAL ====="
   ]
  },
  {
   "cell_type": "code",
   "execution_count": 9,
   "id": "1660de03-b6db-43e1-a490-64a307e2f780",
   "metadata": {},
   "outputs": [
    {
     "name": "stdout",
     "output_type": "stream",
     "text": [
      "3. Encoding Kolom Kategorikal\n",
      "Kolom kategorikal: ['brand', 'model', 'fuel_type', 'engine', 'transmission', 'ext_col', 'int_col', 'accident', 'clean_title']\n",
      "✅ Label Encoding untuk brand: 57 kategori\n",
      "✅ Label Encoding untuk model: 1898 kategori\n",
      "✅ One-Hot Encoding untuk fuel_type: 7 kategori\n",
      "✅ Label Encoding untuk engine: 1146 kategori\n",
      "✅ Label Encoding untuk transmission: 62 kategori\n",
      "✅ Label Encoding untuk ext_col: 319 kategori\n",
      "✅ Label Encoding untuk int_col: 156 kategori\n",
      "✅ One-Hot Encoding untuk accident: 2 kategori\n",
      "✅ One-Hot Encoding untuk clean_title: 1 kategori\n",
      "\n",
      "Shape setelah encoding: (4009, 19)\n"
     ]
    }
   ],
   "source": [
    "print(\"3. Encoding Kolom Kategorikal\")\n",
    "\n",
    "categorical_cols = df.select_dtypes(include='object').columns\n",
    "print(f\"Kolom kategorikal: {list(categorical_cols)}\")\n",
    "\n",
    "# Label Encoding\n",
    "label_encoder = LabelEncoder()\n",
    "for col in categorical_cols:\n",
    "    if df[col].nunique() > 10:\n",
    "        df[f'{col}_encoded'] = label_encoder.fit_transform(df[col])\n",
    "        print(f\"✅ Label Encoding untuk {col}: {df[col].nunique()} kategori\")\n",
    "    else:\n",
    "        dummies = pd.get_dummies(df[col], prefix=col)\n",
    "        df = pd.concat([df, dummies], axis=1)\n",
    "        print(f\"✅ One-Hot Encoding untuk {col}: {df[col].nunique()} kategori\")\n",
    "\n",
    "# Hapus kolom kategorikal ori\n",
    "df = df.drop(columns=categorical_cols)\n",
    "print(f\"\\nShape setelah encoding: {df.shape}\")"
   ]
  },
  {
   "cell_type": "markdown",
   "id": "bbb8bd42-3ed3-4b5d-8419-a7f69f66e009",
   "metadata": {},
   "source": [
    "Data kategorikal seperti merek mobil, tipe bahan bakar, dan transmisi perlu dikonversi ke format numerik untuk pemrosesan lebih lanjut.\n",
    "\n",
    "Strategi encoding yang digunakan:\n",
    "1) Label Encoding\n",
    "   Digunakan untuk variabel dengan banyak kategori (>10)\n",
    "3) One-Hot Encoding\n",
    "   Digunakan untuk variabel dengan sedikit kategori\n",
    "\n",
    "Setelah proses encoding, kolom kategorikal asli dihapus dari dataset."
   ]
  },
  {
   "cell_type": "markdown",
   "id": "01f8c1d3-ef03-4835-987f-4203eb78773d",
   "metadata": {},
   "source": [
    "# ===== FEATURE ENGINEERING ====="
   ]
  },
  {
   "cell_type": "code",
   "execution_count": 10,
   "id": "3c4b4bce-ac7f-4385-b0f0-8de36eb2112a",
   "metadata": {},
   "outputs": [
    {
     "name": "stdout",
     "output_type": "stream",
     "text": [
      "4. Feature Engineering\n",
      "✅ Feature 1: car_age (usia mobil) created\n",
      "✅ Feature 2: price_per_mile (harga per mil) created\n",
      "✅ Feature 3: value_category (kategori nilai mobil) created\n",
      "\n",
      "Feature baru yang dibuat:\n",
      "- car_age: 25 unique values\n",
      "- price_per_mile: 3992 unique values\n",
      "- value_category: 4 unique values\n"
     ]
    }
   ],
   "source": [
    "print(\"4. Feature Engineering\")\n",
    "\n",
    "# Karena kita sudah melakukan normalisasi, kita perlu inverse transform sementara\n",
    "# untuk membuat feature yang meaningful\n",
    "df_temp = df.copy()\n",
    "df_temp[numeric_cols] = scaler.inverse_transform(df_temp[numeric_cols])\n",
    "\n",
    "# Feature 1: Age of car (tahun sekarang - model_year)\n",
    "current_year = 2024\n",
    "df['car_age'] = current_year - df_temp['model_year']\n",
    "print(\"✅ Feature 1: car_age (usia mobil) created\")\n",
    "\n",
    "# Feature 2: Price per mile (harga per mil)\n",
    "df['price_per_mile'] = df_temp['price'] / (df_temp['milage'] + 1)\n",
    "print(\"✅ Feature 2: price_per_mile (harga per mil) created\")\n",
    "\n",
    "# Feature 3: Car value category berdasarkan quartile\n",
    "price_quartiles = df_temp['price'].quantile([0.25, 0.5, 0.75])\n",
    "def categorize_value(price):\n",
    "    if price <= price_quartiles[0.25]:\n",
    "        return 0  # Low \n",
    "    elif price <= price_quartiles[0.5]:\n",
    "        return 1  # Medium\n",
    "    elif price <= price_quartiles[0.75]:\n",
    "        return 2  # High\n",
    "    else:\n",
    "        return 3  # Premium\n",
    "\n",
    "df['value_category'] = df_temp['price'].apply(categorize_value)\n",
    "print(\"✅ Feature 3: value_category (kategori nilai mobil) created\")\n",
    "\n",
    "print(f\"\\nFeature baru yang dibuat:\")\n",
    "new_features = ['car_age', 'price_per_mile', 'value_category']\n",
    "for feature in new_features:\n",
    "    print(f\"- {feature}: {df[feature].nunique()} unique values\")"
   ]
  },
  {
   "cell_type": "markdown",
   "id": "ac7bfcd9-733f-40d8-a967-f3c6aa47b6e3",
   "metadata": {},
   "source": [
    "Dibuat tiga fitur baru untuk meningkatkan kualiyas dataset\n",
    "1) Usia mobil (car_age)\n",
    "2) Harga per-mil (price_per_mile)\n",
    "3) Kategori Nilai (value_category)\n",
    "   Mobil dikategorikan menjadi empat kelompok berdasarkan kuartil harga:\n",
    "    0: Harga rendah (kuartil pertama)\n",
    "    1: Harga menengah (kuartil kedua)\n",
    "    2: Harga tinggi (kuartil ketiga)\n",
    "    3: Harga premium (kuartil keempat)"
   ]
  },
  {
   "cell_type": "markdown",
   "id": "384a6add-dad4-44c9-8d59-01f714324255",
   "metadata": {},
   "source": [
    "# ===== SPLITTING DATA ====="
   ]
  },
  {
   "cell_type": "code",
   "execution_count": 11,
   "id": "deee4907-8dc1-4c54-a8dd-fa61974ee65f",
   "metadata": {},
   "outputs": [
    {
     "name": "stdout",
     "output_type": "stream",
     "text": [
      "5. Splitting Data\n",
      "✅ Splitting data selesai:\n",
      "Training set: 3207 samples (80.0%)\n",
      "Testing set: 802 samples (20.0%)\n",
      "Jumlah features: 21\n"
     ]
    }
   ],
   "source": [
    "print(\"5. Splitting Data\")\n",
    "\n",
    "X = df.drop('price', axis=1) \n",
    "y = df['price']  \n",
    "\n",
    "# Split data 80% training, 20% testing\n",
    "X_train, X_test, y_train, y_test = train_test_split(\n",
    "    X, y, test_size=0.2, random_state=42, stratify=df['value_category'] if 'value_category' in df.columns else None\n",
    ")\n",
    "\n",
    "print(f\"✅ Splitting data selesai:\")\n",
    "print(f\"Training set: {X_train.shape[0]} samples ({X_train.shape[0]/len(df)*100:.1f}%)\")\n",
    "print(f\"Testing set: {X_test.shape[0]} samples ({X_test.shape[0]/len(df)*100:.1f}%)\")\n",
    "print(f\"Jumlah features: {X_train.shape[1]}\")"
   ]
  },
  {
   "cell_type": "markdown",
   "id": "b58a0df4-9ee9-41bb-b077-ee99690762a8",
   "metadata": {},
   "source": [
    "Dataset dibagi menjadi training set dan testing set dengan rasio 80:20"
   ]
  },
  {
   "cell_type": "markdown",
   "id": "75ae1678-6f5f-4fbb-bd86-944f2132e5bb",
   "metadata": {},
   "source": [
    "# ===== DATASET FINAL ====="
   ]
  },
  {
   "cell_type": "code",
   "execution_count": 12,
   "id": "02b1336d-c8d7-4b6f-9a46-72af6949ceec",
   "metadata": {},
   "outputs": [
    {
     "name": "stdout",
     "output_type": "stream",
     "text": [
      "FINAL DATASET INFORMATION\n",
      "Shape final dataset: (4009, 22)\n",
      "\n",
      "Kolom final: ['model_year', 'milage', 'price', 'brand_encoded', 'model_encoded', 'fuel_type_Diesel', 'fuel_type_E85 Flex Fuel', 'fuel_type_Gasoline', 'fuel_type_Hybrid', 'fuel_type_Plug-In Hybrid', 'fuel_type_not supported', 'fuel_type_–', 'engine_encoded', 'transmission_encoded', 'ext_col_encoded', 'int_col_encoded', 'accident_At least 1 accident or damage reported', 'accident_None reported', 'clean_title_Yes', 'car_age', 'price_per_mile', 'value_category']\n",
      "\n",
      "Info dataset:\n",
      "Total samples: 4009\n",
      "Total features: 22\n",
      "Features setelah preprocessing: 21\n",
      "\n",
      "💾 Dataset yang sudah diproses disimpan sebagai 'used_cars_processed.csv'\n"
     ]
    }
   ],
   "source": [
    "print(\"FINAL DATASET INFORMATION\")\n",
    "\n",
    "print(f\"Shape final dataset: {df.shape}\")\n",
    "print(f\"\\nKolom final: {list(df.columns)}\")\n",
    "print(f\"\\nInfo dataset:\")\n",
    "print(f\"Total samples: {len(df)}\")\n",
    "print(f\"Total features: {len(df.columns)}\")\n",
    "print(f\"Features setelah preprocessing: {X_train.shape[1]}\")\n",
    "\n",
    "df.to_csv('dataset/used_cars_processed.csv', index=False)\n",
    "print(\"\\n💾 Dataset yang sudah diproses disimpan sebagai 'used_cars_processed.csv'\")"
   ]
  },
  {
   "cell_type": "markdown",
   "id": "b9b3c133-4729-413a-97f5-fae19b1c2fb9",
   "metadata": {},
   "source": [
    "Setelah melalui seluruh proses preprocessing, dataset yang dihasilkan memiliki karakteristik:\n",
    "1) Data bersih dari missing values dan duplikat\n",
    "2) Semua fitur numerik dalam skala terstandarisasi\n",
    "3) Data kategorikal terkonversi ke format numerik\n",
    "4) Terdapat fitur tambahan yang meaningful untuk analisis\n",
    "5) Siap untuk pemodelan machine learning\n",
    "\n",
    "Dataset akhir disimpan dalam file used_cars_processed.csv untuk penggunaan selanjutnya.\n",
    "\n"
   ]
  },
  {
   "cell_type": "markdown",
   "id": "59c4c33d-d63b-46ae-91b8-cf3dabdb577f",
   "metadata": {},
   "source": [
    "# ===== VISUALISASI DATA ====="
   ]
  },
  {
   "cell_type": "code",
   "execution_count": 13,
   "id": "a77012f2-5c5f-45ba-a596-31344c7cf965",
   "metadata": {},
   "outputs": [
    {
     "name": "stdout",
     "output_type": "stream",
     "text": [
      "📈 Visualisasi Data - Histogram\n"
     ]
    },
    {
     "data": {
      "image/png": "[encoded data removed]",
      "text/plain": [
       "<Figure size 1000x600 with 1 Axes>"
      ]
     },
     "metadata": {},
     "output_type": "display_data"
    }
   ],
   "source": [
    "print(\"📈 Visualisasi Data - Histogram\")\n",
    "plt.figure(figsize=(10, 6))\n",
    "sns.histplot(df['price'], bins=50, kde=True, color='skyblue')\n",
    "plt.title('Distribusi Harga Mobil Bekas', fontsize=14, fontweight='bold', pad=20)\n",
    "plt.xlabel('Harga ($)')\n",
    "plt.ylabel('Frekuensi')\n",
    "plt.show()"
   ]
  },
  {
   "cell_type": "markdown",
   "id": "2bc83e4c-b029-47c5-9d09-94726bc7afb2",
   "metadata": {},
   "source": [
    "# ===== HEATMAP KORELASI ====="
   ]
  },
  {
   "cell_type": "code",
   "execution_count": 16,
   "id": "aef38f22-b825-4764-8261-f19ece8b4ef3",
   "metadata": {},
   "outputs": [
    {
     "name": "stdout",
     "output_type": "stream",
     "text": [
      "Heatmap Korelasi Dataset\n",
      "Matriks Korelasi:\n",
      "                model_year  milage  price  car_age  price_per_mile  \\\n",
      "model_year           1.000  -0.631  0.204   -1.000           0.115   \n",
      "milage              -0.631   1.000 -0.306    0.631          -0.135   \n",
      "price                0.204  -0.306  1.000   -0.204           0.315   \n",
      "car_age             -1.000   0.631 -0.204    1.000          -0.115   \n",
      "price_per_mile       0.115  -0.135  0.315   -0.115           1.000   \n",
      "value_category       0.636  -0.681  0.417   -0.636           0.146   \n",
      "\n",
      "                value_category  \n",
      "model_year               0.636  \n",
      "milage                  -0.681  \n",
      "price                    0.417  \n",
      "car_age                 -0.636  \n",
      "price_per_mile           0.146  \n",
      "value_category           1.000  \n"
     ]
    },
    {
     "data": {
      "image/png": "[encoded data removed]",
      "text/plain": [
       "<Figure size 1000x800 with 2 Axes>"
      ]
     },
     "metadata": {},
     "output_type": "display_data"
    },
    {
     "name": "stdout",
     "output_type": "stream",
     "text": [
      "\n",
      "Analisis Korelasi dengan Harga:\n",
      "----------------------------------------\n",
      "value_category  :   0.417\n",
      "price_per_mile  :   0.315\n",
      "model_year      :   0.204\n",
      "car_age         :  -0.204\n",
      "milage          :  -0.306\n"
     ]
    }
   ],
   "source": [
    "print(\"Heatmap Korelasi Dataset\")\n",
    "\n",
    "# Definisikan kolom numerik yang akan dianalisis\n",
    "numeric_cols = ['model_year', 'milage', 'price', 'car_age', 'price_per_mile', 'value_category']\n",
    "\n",
    "# Filter hanya kolom yang tersedia dalam dataset\n",
    "available_numeric_cols = [col for col in numeric_cols if col in df.columns]\n",
    "\n",
    "# Hitung matriks korelasi\n",
    "corr_matrix = df[available_numeric_cols].corr()\n",
    "\n",
    "print(\"Matriks Korelasi:\")\n",
    "print(corr_matrix.round(3))\n",
    "\n",
    "# Visualisasi Heatmap Korelasi\n",
    "plt.figure(figsize=(10, 8))\n",
    "sns.heatmap(corr_matrix, annot=True, cmap='coolwarm', fmt=\".2f\", \n",
    "            center=0, square=True, linewidths=0.5, cbar_kws={\"shrink\": .8})\n",
    "plt.title('Heatmap Korelasi Atribut Numerik Dataset Mobil Bekas', \n",
    "          fontsize=16, fontweight='bold', pad=20)\n",
    "plt.xticks(rotation=45, ha='right')\n",
    "plt.yticks(rotation=0)\n",
    "plt.tight_layout()\n",
    "plt.show()\n",
    "\n",
    "# Analisis korelasi dengan target (price)\n",
    "if 'price' in corr_matrix.columns:\n",
    "    print(\"\\nAnalisis Korelasi dengan Harga:\")\n",
    "    print(\"-\" * 40)\n",
    "    price_correlations = corr_matrix['price'].sort_values(ascending=False)\n",
    "    \n",
    "    for feature, corr_value in price_correlations.items():\n",
    "        if feature != 'price':\n",
    "            print(f\"{feature:15} : {corr_value:7.3f}\")"
   ]
  },
  {
   "cell_type": "markdown",
   "id": "acbdaefc-f036-4c03-a69a-f976d21b0f1f",
   "metadata": {},
   "source": [
    "### 🔍 HASIL ANALISIS DATA:\n",
    "\n",
    "# Gambaran Umum Data:\n",
    "- Dataset berisi 4009 record dan 12 atribut, dengan 3 atribut numerik (model_year, milage, price).\n",
    "\n",
    "- Rentang harga mobil bekas berkisar dari $2.000.00 hingga $2.954.083.00, dengan rata-rata sekitar $44.553.19.\n",
    "\n",
    "- Mobil bekas umumnya berasal dari tahun 1974–2024, dengan rata-rata tahun model 2015.\n",
    "\n",
    "- Jarak tempuh (milage) sangat bervariasi, dari 100 mil hingga 405.000 mil.\n",
    "\n",
    "- Terdapat korelasi negatif antara milage dan price, artinya mobil dengan jarak tempuh lebih tinggi cenderung lebih murah.\n",
    "\n",
    "- Distribusi harga miring ke kanan (right-skewed), menunjukkan banyak mobil dengan harga rendah dan beberapa mobil mewah dengan harga sangat tinggi."
   ]
  }
 ],
 "metadata": {
  "kernelspec": {
   "display_name": "Python (venv_prak)",
   "language": "python",
   "name": "venv_prak"
  },
  "language_info": {
   "codemirror_mode": {
    "name": "ipython",
    "version": 3
   },
   "file_extension": ".py",
   "mimetype": "text/x-python",
   "name": "python",
   "nbconvert_exporter": "python",
   "pygments_lexer": "ipython3",
   "version": "3.11.4"
  }
 },
 "nbformat": 4,
 "nbformat_minor": 5
}
